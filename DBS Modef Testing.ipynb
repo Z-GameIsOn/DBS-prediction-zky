{
 "cells": [
  {
   "cell_type": "code",
   "execution_count": 1,
   "id": "d5ba6cc7",
   "metadata": {},
   "outputs": [],
   "source": [
    "import joblib"
   ]
  },
  {
   "cell_type": "code",
   "execution_count": 2,
   "id": "4cd6c3fa",
   "metadata": {},
   "outputs": [],
   "source": [
    "model = joblib.load(\"regression\")"
   ]
  },
  {
   "cell_type": "code",
   "execution_count": 3,
   "id": "e1f3e36c",
   "metadata": {},
   "outputs": [
    {
     "name": "stdout",
     "output_type": "stream",
     "text": [
      "[18.38]\n"
     ]
    },
    {
     "name": "stderr",
     "output_type": "stream",
     "text": [
      "D:\\PrivateUse\\Application\\Anaconda\\lib\\site-packages\\sklearn\\base.py:450: UserWarning: X does not have valid feature names, but DecisionTreeRegressor was fitted with feature names\n",
      "  warnings.warn(\n"
     ]
    }
   ],
   "source": [
    "print(model.predict([[1.4]]))"
   ]
  },
  {
   "cell_type": "code",
   "execution_count": 4,
   "id": "b0cefed9",
   "metadata": {},
   "outputs": [],
   "source": [
    "model = joblib.load(\"regression\")"
   ]
  },
  {
   "cell_type": "code",
   "execution_count": 5,
   "id": "6b9f3392",
   "metadata": {},
   "outputs": [
    {
     "name": "stdout",
     "output_type": "stream",
     "text": [
      "[18.38]\n"
     ]
    },
    {
     "name": "stderr",
     "output_type": "stream",
     "text": [
      "D:\\PrivateUse\\Application\\Anaconda\\lib\\site-packages\\sklearn\\base.py:450: UserWarning: X does not have valid feature names, but DecisionTreeRegressor was fitted with feature names\n",
      "  warnings.warn(\n"
     ]
    }
   ],
   "source": [
    "print(model.predict([[1.4]]))"
   ]
  },
  {
   "cell_type": "code",
   "execution_count": null,
   "id": "d8189a32",
   "metadata": {},
   "outputs": [],
   "source": []
  }
 ],
 "metadata": {
  "kernelspec": {
   "display_name": "Python 3 (ipykernel)",
   "language": "python",
   "name": "python3"
  },
  "language_info": {
   "codemirror_mode": {
    "name": "ipython",
    "version": 3
   },
   "file_extension": ".py",
   "mimetype": "text/x-python",
   "name": "python",
   "nbconvert_exporter": "python",
   "pygments_lexer": "ipython3",
   "version": "3.9.12"
  }
 },
 "nbformat": 4,
 "nbformat_minor": 5
}
